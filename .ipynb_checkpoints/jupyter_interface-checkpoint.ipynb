{
 "cells": [
  {
   "cell_type": "markdown",
   "metadata": {
    "tags": []
   },
   "source": [
    "# jupyter_interface.ipynb\n",
    "2022/07/28 wi<BR>\n",
    "    \n",
    "**Function:**<BR>\n",
    "Control Teledyne FLIR cameras through Jupyter<BR>\n",
    "    \n",
    "**Create Python environment:**\n",
    "```\n",
    "$ conda create --name spinnaker\n",
    "$ conda activate spinnaker\n",
    "$ conda install python=3.8 anaconda\n",
    "$ conda install -c conda-forge keyboard               # spinnaker test code requires keyboard\n",
    "# install the downloaded whl file\n",
    "$ python  -m pip install spinnaker_python-2.x.x.x-cp3x-cp3x-win_amd64.whl\n",
    "$ pip install opencv-contrib-python                   # OpenCV\n",
    "$ pip install scikit-video                            # for mp4 video output\n",
    "$ pip install EasyPySpin                              # python wrapper of the wrapper for Spinnaker SDK\n",
    "$ pip install pyserial                                # communicate with teensy via serial (Jupyter)\n",
    "```"
   ]
  },
  {
   "cell_type": "markdown",
   "metadata": {},
   "source": [
    "---\n",
    "### Step 1. Initialize Teensy"
   ]
  },
  {
   "cell_type": "code",
   "execution_count": 1,
   "metadata": {},
   "outputs": [
    {
     "name": "stdout",
     "output_type": "stream",
     "text": [
      "> \n",
      "\n",
      "> set_verbose -off\n",
      "ERROR: Command not found at 'set_verbose'\n",
      "set_camera [-start] [-stop] [-status] [-fps <-1>] [-exposure <-1.0>]\n",
      "\n",
      "\n",
      "\n"
     ]
    }
   ],
   "source": [
    "import serial, time\n",
    "import teensy_control_tl_cam as tl\n",
    "\n",
    "arduino = serial.Serial('COM4', 115200, timeout=.1)\n",
    "\n",
    "def commu_arduino(commandStr):\n",
    "    commandStr = commandStr + \"\\n\"\n",
    "    arduino.write(commandStr.encode()) # Need to encode bytes literal\n",
    "    time.sleep(0.1)\n",
    "\n",
    "    msg = arduino.read(arduino.inWaiting()) # read everything in the input buffer\n",
    "    if msg.decode(\"utf-8\") != \"\":\n",
    "        _msg = msg.decode(\"utf-8\")\n",
    "        print (_msg.replace(\"\\r\", \"\"))\n",
    "        # print (_msg[:-2]) # Need to decode to string\n",
    "        # print (_msg.replace(\"\\r\", \"\").encode())\n",
    "\n",
    "def print_last_param():        \n",
    "    print(\"### The last camera parameters ###\")\n",
    "    print(\"gain:     \", gain)\n",
    "    print(\"fps:      \", fps)\n",
    "    print(\"exposure: \", exposure, \" ms\")\n",
    "\n",
    "    commu_arduino(\"set_camera -status\")\n",
    "        \n",
    "# Opening welcome\n",
    "time.sleep(3) #give the connection a second to settle\n",
    "commu_arduino(\"\")\n",
    "commu_arduino(\"set_verbose -off\")"
   ]
  },
  {
   "cell_type": "markdown",
   "metadata": {},
   "source": [
    "**Disconnect Teensy**"
   ]
  },
  {
   "cell_type": "code",
   "execution_count": 3,
   "metadata": {},
   "outputs": [],
   "source": [
    "arduino.close()"
   ]
  },
  {
   "cell_type": "markdown",
   "metadata": {
    "tags": []
   },
   "source": [
    "---\n",
    "### Step 2. Adjust camera parameters: fps, exposure and gain.\n",
    "**Defaults:**<BR>\n",
    "fps: 50, exposeure: 40 ms, gain: 1.0"
   ]
  },
  {
   "cell_type": "markdown",
   "metadata": {
    "tags": []
   },
   "source": [
    "#### 2-1. Start cameras\n",
    "**camera information and parameters**"
   ]
  },
  {
   "cell_type": "code",
   "execution_count": 2,
   "metadata": {},
   "outputs": [],
   "source": [
    "camera_1 = ['Firefly FFY-U3-16S2C', 'color', '21040292']\n",
    "camera_2 = ['Firefly FFY-U3-16S2M', 'bw', '20216234']\n",
    "cam_1_movie = ''  # movie file is not recorded\n",
    "cam_2_movie = ''  # movie file is not recorded\n",
    "\n",
    "fps=50\n",
    "exposure=15.0 # (ms)\n",
    "gain=1.0"
   ]
  },
  {
   "cell_type": "markdown",
   "metadata": {},
   "source": [
    "**(option-1) start in non-trigger mode**<BR>\n",
    "No need Teensy to generate pulse.\n",
    "- **fps, exposure, and gain** are changed interactively by **python**"
   ]
  },
  {
   "cell_type": "code",
   "execution_count": 3,
   "metadata": {},
   "outputs": [
    {
     "name": "stdout",
     "output_type": "stream",
     "text": [
      "> set_camera -fps 50\n",
      "Camera status: 1, fps: 50, exposure: 15.00 ms, cycle duration: 20.00 ms\n",
      "\n",
      "> set_camera -exposure 15.0\n",
      "Camera status: 1, fps: 50, exposure: 15.00 ms, cycle duration: 20.00 ms\n",
      "\n"
     ]
    },
    {
     "name": "stderr",
     "output_type": "stream",
     "text": [
      "C:\\Users\\User\\Documents\\jupyter\\teensy_control_tl_cam\\teensy_control_tl_cam.py:63: NumbaWarning: \u001b[1m\n",
      "Compilation is falling back to object mode WITH looplifting enabled because Function \"acquire_movie\" failed type inference due to: \u001b[1m\u001b[1mnon-precise type pyobject\u001b[0m\n",
      "\u001b[0m\u001b[1mDuring: typing of argument at C:\\Users\\User\\Documents\\jupyter\\teensy_control_tl_cam\\teensy_control_tl_cam.py (65)\u001b[0m\n",
      "\u001b[1m\n",
      "File \"teensy_control_tl_cam.py\", line 65:\u001b[0m\n",
      "\u001b[1m    def acquire_movie(self):\n",
      "\u001b[1m        print(\"Starting \" + self.previewName)\n",
      "\u001b[0m        \u001b[1m^\u001b[0m\u001b[0m\n",
      "\u001b[0m\n",
      "  @jit\n"
     ]
    },
    {
     "name": "stdout",
     "output_type": "stream",
     "text": [
      "\n",
      "### The last camera parameters ###\n",
      "gain:      1.0\n",
      "fps:       50\n",
      "exposure:  15.0  ms\n",
      "> set_camera -status\n",
      "Camera status: 1, fps: 50, exposure: 15.00 ms, cycle duration: 20.00 ms\n",
      "\n"
     ]
    },
    {
     "name": "stderr",
     "output_type": "stream",
     "text": [
      "C:\\Users\\User\\anaconda3\\envs\\spinnaker\\lib\\site-packages\\numba\\core\\object_mode_passes.py:151: NumbaWarning: \u001b[1mFunction \"acquire_movie\" was compiled in object mode without forceobj=True.\n",
      "\u001b[1m\n",
      "File \"teensy_control_tl_cam.py\", line 64:\u001b[0m\n",
      "\u001b[1m    @jit\n",
      "\u001b[1m    def acquire_movie(self):\n",
      "\u001b[0m    \u001b[1m^\u001b[0m\u001b[0m\n",
      "\u001b[0m\n",
      "  warnings.warn(errors.NumbaWarning(warn_msg,\n",
      "C:\\Users\\User\\anaconda3\\envs\\spinnaker\\lib\\site-packages\\numba\\core\\object_mode_passes.py:161: NumbaDeprecationWarning: \u001b[1m\n",
      "Fall-back from the nopython compilation path to the object mode compilation path has been detected, this is deprecated behaviour.\n",
      "\n",
      "For more information visit https://numba.readthedocs.io/en/stable/reference/deprecation.html#deprecation-of-object-mode-fall-back-behaviour-when-using-jit\n",
      "\u001b[1m\n",
      "File \"teensy_control_tl_cam.py\", line 64:\u001b[0m\n",
      "\u001b[1m    @jit\n",
      "\u001b[1m    def acquire_movie(self):\n",
      "\u001b[0m    \u001b[1m^\u001b[0m\u001b[0m\n",
      "\u001b[0m\n",
      "  warnings.warn(errors.NumbaDeprecationWarning(msg,\n"
     ]
    },
    {
     "name": "stdout",
     "output_type": "stream",
     "text": [
      "Starting Firefly FFY-U3-16S2M\n",
      "Starting Firefly FFY-U3-16S2C\n",
      "gain:  1.0\n",
      "gain:  1.0\n",
      "exposure:  15007.0\n",
      "exposure:  15007.0\n",
      "ExposureAuto:  0\n",
      "ExposureTime:  15007.0\n",
      "ExposureAuto:  0\n",
      "ExposureTime:  15007.0\n"
     ]
    }
   ],
   "source": [
    "import threading\n",
    "import teensy_control_tl_cam as tl\n",
    "\n",
    "commu_arduino(\"set_camera -fps \"+str(fps))\n",
    "commu_arduino(\"set_camera -exposure \"+str(exposure))\n",
    "\n",
    "trig_mode=False\n",
    "cam1 = tl.camThread(camera_1, cam_1_movie,\n",
    "                    trig_mode=trig_mode, gain=gain, fps=fps, exposure=exposure*1000.0)\n",
    "cam2 = tl.camThread(camera_2, cam_2_movie,\n",
    "                    trig_mode=trig_mode, gain=gain, fps=fps, exposure=exposure*1000.0)\n",
    "cam1.start()\n",
    "cam2.start()\n",
    "\n",
    "time.sleep(1)\n",
    "print()\n",
    "print_last_param()"
   ]
  },
  {
   "cell_type": "markdown",
   "metadata": {
    "tags": []
   },
   "source": [
    "**(option-2) start in trigger mode**<BR>\n",
    "Need Teensy to generate triggering pulse\n",
    "- **fps, exposure** are changed interactively by **Teensy**<BR>\n",
    "- **gain** is changed interactively by **python**"
   ]
  },
  {
   "cell_type": "code",
   "execution_count": 3,
   "metadata": {},
   "outputs": [
    {
     "name": "stdout",
     "output_type": "stream",
     "text": [
      "> set_camera -fps 50\n",
      "Camera status: 1, fps: 50, exposure: 15.00 ms, cycle duration: 20.00 ms\n",
      "\n",
      "> set_camera -exposure 15.0\n",
      "Camera status: 1, fps: 50, exposure: 15.00 ms, cycle duration: 20.00 ms\n",
      "\n"
     ]
    },
    {
     "name": "stderr",
     "output_type": "stream",
     "text": [
      "C:\\Users\\User\\Documents\\jupyter\\teensy_control_tl_cam\\teensy_control_tl_cam.py:63: NumbaWarning: \u001b[1m\n",
      "Compilation is falling back to object mode WITH looplifting enabled because Function \"acquire_movie\" failed type inference due to: \u001b[1m\u001b[1mnon-precise type pyobject\u001b[0m\n",
      "\u001b[0m\u001b[1mDuring: typing of argument at C:\\Users\\User\\Documents\\jupyter\\teensy_control_tl_cam\\teensy_control_tl_cam.py (65)\u001b[0m\n",
      "\u001b[1m\n",
      "File \"teensy_control_tl_cam.py\", line 65:\u001b[0m\n",
      "\u001b[1m    def acquire_movie(self):\n",
      "\u001b[1m        print(\"Starting \" + self.previewName)\n",
      "\u001b[0m        \u001b[1m^\u001b[0m\u001b[0m\n",
      "\u001b[0m\n",
      "  @jit\n"
     ]
    },
    {
     "name": "stdout",
     "output_type": "stream",
     "text": [
      "> set_camera -start\n",
      "Camera status: 1, fps: 50, exposure: 15.00 ms, cycle duration: 20.00 ms\n",
      "\n",
      "\n",
      "### The last camera parameters ###\n",
      "gain:      1.0\n",
      "fps:       50\n",
      "exposure:  15.0  ms\n",
      "> set_camera -status\n",
      "Camera status: 1, fps: 50, exposure: 15.00 ms, cycle duration: 20.00 ms\n",
      "\n"
     ]
    },
    {
     "name": "stderr",
     "output_type": "stream",
     "text": [
      "C:\\Users\\User\\anaconda3\\envs\\spinnaker\\lib\\site-packages\\numba\\core\\object_mode_passes.py:151: NumbaWarning: \u001b[1mFunction \"acquire_movie\" was compiled in object mode without forceobj=True.\n",
      "\u001b[1m\n",
      "File \"teensy_control_tl_cam.py\", line 64:\u001b[0m\n",
      "\u001b[1m    @jit\n",
      "\u001b[1m    def acquire_movie(self):\n",
      "\u001b[0m    \u001b[1m^\u001b[0m\u001b[0m\n",
      "\u001b[0m\n",
      "  warnings.warn(errors.NumbaWarning(warn_msg,\n",
      "C:\\Users\\User\\anaconda3\\envs\\spinnaker\\lib\\site-packages\\numba\\core\\object_mode_passes.py:161: NumbaDeprecationWarning: \u001b[1m\n",
      "Fall-back from the nopython compilation path to the object mode compilation path has been detected, this is deprecated behaviour.\n",
      "\n",
      "For more information visit https://numba.readthedocs.io/en/stable/reference/deprecation.html#deprecation-of-object-mode-fall-back-behaviour-when-using-jit\n",
      "\u001b[1m\n",
      "File \"teensy_control_tl_cam.py\", line 64:\u001b[0m\n",
      "\u001b[1m    @jit\n",
      "\u001b[1m    def acquire_movie(self):\n",
      "\u001b[0m    \u001b[1m^\u001b[0m\u001b[0m\n",
      "\u001b[0m\n",
      "  warnings.warn(errors.NumbaDeprecationWarning(msg,\n"
     ]
    },
    {
     "name": "stdout",
     "output_type": "stream",
     "text": [
      "Starting Firefly FFY-U3-16S2M\n",
      "Starting Firefly FFY-U3-16S2C\n",
      "gain:  1.0\n",
      "gain:  1.0\n"
     ]
    }
   ],
   "source": [
    "import threading\n",
    "import teensy_control_tl_cam as tl\n",
    "\n",
    "commu_arduino(\"set_camera -fps \"+str(fps))\n",
    "commu_arduino(\"set_camera -exposure \"+str(exposure))\n",
    "\n",
    "trig_mode=True\n",
    "cam1 = tl.camThread(camera_1, cam_1_movie,\n",
    "                    trig_mode=trig_mode, gain=gain, fps=fps, exposure=exposure*1000.0)\n",
    "cam2 = tl.camThread(camera_2, cam_2_movie,\n",
    "                    trig_mode=trig_mode, gain=gain, fps=fps, exposure=exposure*1000.0)\n",
    "cam1.start()\n",
    "cam2.start()\n",
    "\n",
    "time.sleep(1)\n",
    "commu_arduino(\"set_camera -start\")\n",
    "print()\n",
    "print_last_param()"
   ]
  },
  {
   "cell_type": "code",
   "execution_count": 34,
   "metadata": {},
   "outputs": [
    {
     "name": "stdout",
     "output_type": "stream",
     "text": [
      "> set_camera -stop\n",
      "\n"
     ]
    }
   ],
   "source": [
    "commu_arduino(\"set_camera -stop\")"
   ]
  },
  {
   "cell_type": "markdown",
   "metadata": {},
   "source": [
    "#### 2-2 Change parameters"
   ]
  },
  {
   "cell_type": "code",
   "execution_count": 8,
   "metadata": {},
   "outputs": [],
   "source": [
    "gain = 10.0\n",
    "\n",
    "cam1.new_gain = gain\n",
    "cam2.new_gain = gain"
   ]
  },
  {
   "cell_type": "code",
   "execution_count": 7,
   "metadata": {},
   "outputs": [
    {
     "name": "stdout",
     "output_type": "stream",
     "text": [
      "> set_camera -fps 60\n",
      "Camera status: 0, fps: 60, exposure: 15.00 ms, cycle duration: 16.67 ms\n",
      "\n"
     ]
    },
    {
     "name": "stderr",
     "output_type": "stream",
     "text": [
      "C:\\Users\\User\\anaconda3\\envs\\spinnaker\\lib\\site-packages\\EasyPySpin\\videocapture.py:283: EasyPySpinWarning: 'AcquisitionFrameRate' value must be in the range of [1.0, 9.199262351628777], so 60 become 9.199262351628777\n",
      "  is_success2 = self.set_pyspin_value(\"AcquisitionFrameRate\", value)\n"
     ]
    }
   ],
   "source": [
    "fps = 60\n",
    "\n",
    "cam1.new_fps = fps\n",
    "cam2.new_fps = fps\n",
    "\n",
    "commu_arduino(\"set_camera -fps \"+str(fps))"
   ]
  },
  {
   "cell_type": "code",
   "execution_count": 6,
   "metadata": {},
   "outputs": [
    {
     "name": "stdout",
     "output_type": "stream",
     "text": [
      "> set_camera -fps 60\n",
      "Camera status: 1, fps: 60, exposure: 15.00 ms, cycle duration: 16.67 ms\n",
      "\n"
     ]
    }
   ],
   "source": [
    "commu_arduino(\"set_camera -fps 60\")"
   ]
  },
  {
   "cell_type": "code",
   "execution_count": 59,
   "metadata": {},
   "outputs": [
    {
     "name": "stdout",
     "output_type": "stream",
     "text": [
      "> set_camera -exposure 10.0\n",
      "Camera status: 1, fps: 30, exposure: 10.00 ms, cycle duration: 33.33 ms\n",
      "\n"
     ]
    }
   ],
   "source": [
    "commu_arduino(\"set_camera -exposure 10.0\")"
   ]
  },
  {
   "cell_type": "code",
   "execution_count": 5,
   "metadata": {},
   "outputs": [
    {
     "name": "stdout",
     "output_type": "stream",
     "text": [
      "> set_camera -exposure 15.0\n",
      "Camera status: 1, fps: 50, exposure: 15.00 ms, cycle duration: 20.00 ms\n",
      "\n"
     ]
    }
   ],
   "source": [
    "exposure = 15.0\n",
    "\n",
    "cam1.new_exposure = exposure*1000.0\n",
    "cam2.new_exposure = exposure*1000.0\n",
    "\n",
    "commu_arduino(\"set_camera -exposure \"+str(exposure))"
   ]
  },
  {
   "cell_type": "markdown",
   "metadata": {},
   "source": [
    "#### 2-3 Stop cameras"
   ]
  },
  {
   "cell_type": "code",
   "execution_count": 30,
   "metadata": {},
   "outputs": [
    {
     "name": "stdout",
     "output_type": "stream",
     "text": [
      "> set_camera -stop\n",
      "\n",
      "\n",
      "### The last camera parameters ###\n",
      "gain:      40.0\n",
      "fps:       59\n",
      "exposure:  10.0  ms\n",
      "> set_camera -status\n",
      "Camera status: 0, fps: 59, exposure: 10.00 ms, cycle duration: 16.95 ms\n",
      "\n"
     ]
    }
   ],
   "source": [
    "cam1.camera_on = False\n",
    "cam2.camera_on = False\n",
    "\n",
    "commu_arduino(\"set_camera -stop\")\n",
    "\n",
    "time.sleep(1)\n",
    "print()\n",
    "print_last_param()"
   ]
  },
  {
   "cell_type": "markdown",
   "metadata": {},
   "source": [
    "---\n",
    "### Step 3. Record movie files\n",
    "\n",
    "Set the system waiting for external trigger"
   ]
  },
  {
   "cell_type": "markdown",
   "metadata": {
    "tags": []
   },
   "source": [
    "**The last camera parameters**"
   ]
  },
  {
   "cell_type": "code",
   "execution_count": 14,
   "metadata": {},
   "outputs": [
    {
     "name": "stdout",
     "output_type": "stream",
     "text": [
      "### The last camera parameters ###\n",
      "gain:      20.0\n",
      "fps:       30\n",
      "exposure:  20.0  ms\n",
      "> set_camera -status\n",
      "Camera status: 0, fps: 30, exposure: 20.00 ms, cycle duration: 33.33 ms\n",
      "\n"
     ]
    }
   ],
   "source": [
    "print_last_param()"
   ]
  },
  {
   "cell_type": "code",
   "execution_count": 15,
   "metadata": {},
   "outputs": [
    {
     "name": "stdout",
     "output_type": "stream",
     "text": [
      "> set_camera -fps 30\n",
      "Camera status: 0, fps: 30, exposure: 20.00 ms, cycle duration: 33.33 ms\n",
      "\n",
      "> set_camera -exposure 20.0\n",
      "Camera status: 0, fps: 30, exposure: 20.00 ms, cycle duration: 33.33 ms\n",
      "\n",
      "Starting Firefly FFY-U3-16S2C\n",
      "Starting Firefly FFY-U3-16S2M\n",
      "gain:  20.0\n",
      "gain:  20.0\n",
      "\n",
      "### The last camera parameters ###\n",
      "gain:      20.0\n",
      "fps:       30\n",
      "exposure:  20.0  ms\n",
      "> set_camera -status\n",
      "Camera status: 0, fps: 30, exposure: 20.00 ms, cycle duration: 33.33 ms\n",
      "\n"
     ]
    }
   ],
   "source": [
    "camera_1 = ['Firefly FFY-U3-16S2C', 'color', '21040292']\n",
    "camera_2 = ['Firefly FFY-U3-16S2M', 'bw', '20216234']\n",
    "cam_1_movie = 'cam_1.mp4'\n",
    "cam_2_movie = 'cam_2.mp4'\n",
    "\n",
    "commu_arduino(\"set_camera -fps \"+str(fps))\n",
    "commu_arduino(\"set_camera -exposure \"+str(exposure))\n",
    "\n",
    "trig_mode=True\n",
    "\n",
    "cam1 = tl.camThread(camera_1, cam_1_movie,\n",
    "                    trig_mode=trig_mode, gain=gain, fps=fps, exposure=exposure*1000.0)\n",
    "cam2 = tl.camThread(camera_2, cam_2_movie,\n",
    "                    trig_mode=trig_mode, gain=gain, fps=fps, exposure=exposure*1000.0)\n",
    "\n",
    "cam1.start()\n",
    "cam2.start()\n",
    "\n",
    "time.sleep(1)\n",
    "print()\n",
    "print_last_param()"
   ]
  },
  {
   "cell_type": "code",
   "execution_count": 16,
   "metadata": {},
   "outputs": [
    {
     "name": "stdout",
     "output_type": "stream",
     "text": [
      "> set_camera -start\n",
      "Camera status: 1, fps: 30, exposure: 20.00 ms, cycle duration: 33.33 ms\n",
      "\n",
      "> set_camera -stop\n",
      "\n",
      "\n",
      "### The last camera parameters ###\n",
      "gain:      20.0\n",
      "fps:       30\n",
      "exposure:  20.0  ms\n",
      "> set_camera -status\n",
      "Camera status: 0, fps: 30, exposure: 20.00 ms, cycle duration: 33.33 ms\n",
      "\n"
     ]
    }
   ],
   "source": [
    "cam1.camera_on = False\n",
    "cam2.camera_on = False\n",
    "\n",
    "commu_arduino(\"set_camera -start\")\n",
    "commu_arduino(\"set_camera -stop\")\n",
    "\n",
    "time.sleep(1)\n",
    "print()\n",
    "print_last_param()"
   ]
  },
  {
   "cell_type": "markdown",
   "metadata": {},
   "source": [
    "---\n",
    "### Step 5. Start paradigm"
   ]
  },
  {
   "cell_type": "markdown",
   "metadata": {},
   "source": [
    "#### Output file which document the paradigm condition\n",
    "    Set output directory (savePath)\n",
    "    You need to create the output directory in advance."
   ]
  },
  {
   "cell_type": "code",
   "execution_count": 11,
   "metadata": {},
   "outputs": [
    {
     "name": "stdout",
     "output_type": "stream",
     "text": [
      "Starting camera_1Starting camera_2\n",
      "Camera image shape: 640x480\n",
      "\n",
      "Camera image shape: 640x480\n",
      "Gain: 18\n",
      "DigitalGain: 128\n",
      "Gain: 18\n",
      "DigitalGain: 128\n",
      "Starting paradigm ...\n",
      "... Press Blue Button to start the protocol ...\n",
      "\n",
      "Failed to transfer image from camera.Failed to transfer image from camera.  Failed to transfer image from camera.Failed to transfer image from camera.  Failed to transfer image from camera.Failed to transfer image from camera.  Dropped a frame 2192010Dropped a frame 2192010\n",
      "\n",
      "Failed to transfer image from camera.Failed to transfer image from camera.  Failed to transfer image from camera.Failed to transfer image from camera.  "
     ]
    }
   ],
   "source": [
    "savePath = r'C:\\Users\\User\\Desktop\\project'\n",
    "\n",
    "# Do not modify the followings\n",
    "import datetime\n",
    "import os\n",
    "\n",
    "commu_arduino(\"\")\n",
    "commu_arduino(\"\")\n",
    "\n",
    "x = datetime.datetime.now()\n",
    "savePath += x.strftime(\"\\\\%Y%m%d-%H%M%S\")\n",
    "\n",
    "if not os.path.exists(savePath):\n",
    "    os.mkdir(savePath)\n",
    "\n",
    "prefixFileName = os.path.split(savePath)[1]\n",
    "outputFileName = os.path.join(savePath, prefixFileName + \"_\" + \"output.txt\")\n",
    "\n",
    "import sys\n",
    "\n",
    "orig_stdout = sys.stdout\n",
    "f = open(outputFileName, 'w')\n",
    "sys.stdout = f\n",
    "\n",
    "print(\"1. savePath:          \" + savePath)\n",
    "print(\"2. date:              \" + str(datetime.datetime.now()))\n",
    "print(\"3. tone volume:       \" + str(tone_volume))\n",
    "print(\"4. camera settings:   \")\n",
    "commu_arduino(\"set_camera -status\")\n",
    "print(\"5. paradigm table:    \")\n",
    "commu_arduino(\"set_paradigm -list\")\n",
    "\n",
    "sys.stdout = orig_stdout\n",
    "f.close()\n",
    "\n",
    "ca.live_movie(cameraNum, fps, savePath, gain, digital_gain)\n",
    "#commu_arduino(\"start paradigm\")\n",
    "commu_arduino(\"start paradigm -button\")"
   ]
  },
  {
   "cell_type": "code",
   "execution_count": 12,
   "metadata": {},
   "outputs": [
    {
     "name": "stdout",
     "output_type": "stream",
     "text": [
      "Started !\n",
      "To abort, press RED button.\n",
      "Aborted\n",
      "number of loops: 545148\n",
      "<100us : 349740, 100us-1ms: 195409, 1ms-10ms: 0, 10-100ms: 0, 100ms<: 0\n"
     ]
    }
   ],
   "source": [
    "commu_arduino(\"\")"
   ]
  },
  {
   "cell_type": "markdown",
   "metadata": {},
   "source": [
    "### Step 6. compress videos."
   ]
  },
  {
   "cell_type": "code",
   "execution_count": null,
   "metadata": {},
   "outputs": [],
   "source": [
    "import os\n",
    "import ffmpeg\n",
    "\n",
    "#path = os.getcwd()\n",
    "#print(path)\n",
    "\n",
    "path = savePath\n",
    "\n",
    "os.chdir(path)\n",
    "print(os.listdir(path))\n",
    "\n",
    "for file in os.listdir(path):\n",
    "    base = os.path.splitext(file)[0]\n",
    "    extn = os.path.splitext(file)[1]\n",
    "    if extn == '.mp4':\n",
    "        # !ffmpeg -i {file} -vf \"transpose=2,transpose=2\" -vcodec libx264 {base}.mp4\n",
    "        fileIN = os.path.join(path,file)\n",
    "        print('file = ', fileIN, end = ' ')\n",
    "        stream = ffmpeg.input(fileIN)\n",
    "        # stream = ffmpeg.hflip(stream)\n",
    "        # stream = ffmpeg.vflip(stream)\n",
    "        fileOUT = os.path.join(path,base) + '_converted' + '.mp4'\n",
    "        print('---> output = ', fileOUT)\n",
    "        stream = ffmpeg.output(stream, fileOUT, vcodec='libx264')\n",
    "        ffmpeg.run(stream)\n",
    "        \n",
    "        #os.remove(fileIN)\n",
    "        #os.rename(fileOUT, fileIN)\n",
    "print('end')"
   ]
  },
  {
   "cell_type": "markdown",
   "metadata": {},
   "source": [
    "### Step 7. Disconnect PCBox"
   ]
  },
  {
   "cell_type": "code",
   "execution_count": 1,
   "metadata": {},
   "outputs": [
    {
     "ename": "NameError",
     "evalue": "name 'arduino' is not defined",
     "output_type": "error",
     "traceback": [
      "\u001b[1;31m---------------------------------------------------------------------------\u001b[0m",
      "\u001b[1;31mNameError\u001b[0m                                 Traceback (most recent call last)",
      "\u001b[1;32m<ipython-input-1-9331bc397856>\u001b[0m in \u001b[0;36m<module>\u001b[1;34m\u001b[0m\n\u001b[1;32m----> 1\u001b[1;33m \u001b[0marduino\u001b[0m\u001b[1;33m.\u001b[0m\u001b[0mclose\u001b[0m\u001b[1;33m(\u001b[0m\u001b[1;33m)\u001b[0m\u001b[1;33m\u001b[0m\u001b[1;33m\u001b[0m\u001b[0m\n\u001b[0m",
      "\u001b[1;31mNameError\u001b[0m: name 'arduino' is not defined"
     ]
    }
   ],
   "source": [
    "arduino.close()"
   ]
  }
 ],
 "metadata": {
  "kernelspec": {
   "display_name": "Python 3 (ipykernel)",
   "language": "python",
   "name": "python3"
  },
  "language_info": {
   "codemirror_mode": {
    "name": "ipython",
    "version": 3
   },
   "file_extension": ".py",
   "mimetype": "text/x-python",
   "name": "python",
   "nbconvert_exporter": "python",
   "pygments_lexer": "ipython3",
   "version": "3.8.13"
  }
 },
 "nbformat": 4,
 "nbformat_minor": 4
}
